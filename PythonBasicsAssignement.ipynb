{
  "nbformat": 4,
  "nbformat_minor": 0,
  "metadata": {
    "colab": {
      "provenance": []
    },
    "kernelspec": {
      "name": "python3",
      "display_name": "Python 3"
    },
    "language_info": {
      "name": "python"
    }
  },
  "cells": [
    {
      "cell_type": "markdown",
      "source": [
        "-------------******* theoretical questions ********----------------"
      ],
      "metadata": {
        "id": "QQTeD1f6xW5E"
      }
    },
    {
      "cell_type": "markdown",
      "source": [
        "1. What is Python, and why is it popular?\n",
        " * Python is programming language, or set of rules and symbols that define the process of writting computer program/script.\n",
        " * It is popular due to below reasons-\n",
        "                      *   Readability, Reusability, Verstail.\n",
        "                      *   Pyhton has huge active community.\n",
        "                      *   widly used in the industry (cloud-deployment,web development, data analysis).\n",
        "                      *   Lot's of libraries.\n",
        "                      *   Image processing\n",
        "                      *   Intracing with other db(Db connection)\n",
        "\n",
        "\n",
        "2. What is an interpreter in Python ?\n",
        " * Execurte the code line by line is called as interpreter in python.\n",
        "\n",
        "\n",
        "3. What are pre-defined keywords in Python ?\n",
        " * In python we have around 36 keyword like(class, if , else , for , in, is, or, not, try and many more)\n",
        " * keywords are case sensitive.\n",
        "\n",
        "4. Can keywords be used as variable names ?\n",
        " * No, keywords are reserved words that holds some specific meaning and porpuse within the language's syntax. It will through \"Syntax error\" as a result if you use keyword as a variable.\n",
        "\n",
        "5. What is mutability in Python ?\n",
        " * Changing object without craeting a new object is know as mutability in pyhton.\n",
        "\n",
        "6. Why are lists mutable, but tuples are immutable?\n",
        " * lists are mutable because item of the list can be modified and we keep list in [] (square brackets), and other hand tuples are immutable because it's a data structure where it don't allow modification, to avoid the information lose and represent tuples in () parentheses brackets.\n",
        "\n",
        "7. What is the difference between “==” and “is” operators in Python?\n",
        " * == -->> use to compare --> Value of the 2 variable is equal or not.\n",
        "   is -->> is check object identity, not equality ---> Basically it checks the 2 variable is pointing exact same memory allocation or not.\n",
        "\n",
        "8. What are logical operators in Python?\n",
        " * Mainly 3 logical operators are in python : and , or and not.\n",
        "\n",
        "9. What is type casting in Python?\n",
        " * Converting variable's one datatype to another data type know as type casting.\n",
        "\n",
        "10. What is the difference between implicit and explicit type casting?\n",
        "* Implicit type casting is converting data type into another datatype automatically.\n",
        "* Explicit type casting ic where user manually convert the data type.\n",
        "\n",
        "11. What is the purpose of conditional statements in Python?\n",
        " * Conditional statements helps use to code block decision based on some preconditions. if, if else, if elif else, nested if else\n",
        " Primarly used conditional statement are-:\n",
        "         * if -> Check the condition if match then enter in the block.\n",
        "         * elif --> Allow to check multiple condition.\n",
        "         * else -> if non of the condition match then enter into the else block.\n",
        "\n",
        "12. How does the elif statement work?\n",
        " * elif statement allows multiple condition to be checked sequentially. The conditional operater start from if condition, once that condition satisfied then it will enter to the another if condition that is nothing elif check the condition satisfied then enter to next block of the code. It reapeats, until it complete all the elif block condition check at the last else block to execute.\n",
        "\n",
        "13. What is the difference between for and while loops?\n",
        "* for loop - use for itration with the help of range. first intialize then chek the condition and in last updation  where while loop - where we need to repeatedly execute a block of code until a condition is no longer true\n",
        "\n",
        "14. Describe a scenario where a while loop is more suitable than a for loop?\n",
        "* While loop is more suitable than a for loop if the number of itration is not know beforehead and depends on condition bening met.\n",
        "   \n",
        "  "
      ],
      "metadata": {
        "id": "U3zo47eDPoud"
      }
    },
    {
      "cell_type": "markdown",
      "source": [
        "-------------------- ******Practical ********* -------------------"
      ],
      "metadata": {
        "id": "H5xfFY7L8qSU"
      }
    },
    {
      "cell_type": "code",
      "source": [
        "# prompt: # 1.  Write a Python program to print \"Hello, World!?\n",
        "\n",
        "print(\"Hello, World!\")\n"
      ],
      "metadata": {
        "colab": {
          "base_uri": "https://localhost:8080/"
        },
        "id": "OYo6Wcd2PRzr",
        "outputId": "52e7e5d3-496f-43ed-f5a4-078b2509a0e6"
      },
      "execution_count": null,
      "outputs": [
        {
          "output_type": "stream",
          "name": "stdout",
          "text": [
            "Hello, World!\n"
          ]
        }
      ]
    },
    {
      "cell_type": "code",
      "source": [
        "# 2. Write a Python program that displays your name and age?\n",
        "name = \"kavita\"\n",
        "age = \"21\"\n",
        "print(name, age)"
      ],
      "metadata": {
        "colab": {
          "base_uri": "https://localhost:8080/"
        },
        "id": "KKd2PRCPH1Mq",
        "outputId": "2cb3a5cf-6073-4329-abf8-9e6ba2489236"
      },
      "execution_count": null,
      "outputs": [
        {
          "output_type": "stream",
          "name": "stdout",
          "text": [
            "kavita 21\n"
          ]
        }
      ]
    },
    {
      "cell_type": "code",
      "source": [
        "# 3.Write code to print all the pre-defined keywords in Python using the keyword library?\n",
        "from keyword import kwlist\n",
        "print(kwlist)\n"
      ],
      "metadata": {
        "colab": {
          "base_uri": "https://localhost:8080/"
        },
        "id": "thUD-gGZIKjN",
        "outputId": "0a5b6efe-d20a-4634-dbc3-689f2344ff84"
      },
      "execution_count": null,
      "outputs": [
        {
          "output_type": "stream",
          "name": "stdout",
          "text": [
            "['False', 'None', 'True', 'and', 'as', 'assert', 'async', 'await', 'break', 'class', 'continue', 'def', 'del', 'elif', 'else', 'except', 'finally', 'for', 'from', 'global', 'if', 'import', 'in', 'is', 'lambda', 'nonlocal', 'not', 'or', 'pass', 'raise', 'return', 'try', 'while', 'with', 'yield']\n"
          ]
        }
      ]
    },
    {
      "cell_type": "code",
      "source": [
        "# 4. Write a program that checks if a given word is a Python keyword?\n",
        "is_keyword= True\n",
        "if is_keyword == True:\n",
        "    print(\"it is a keyword\")\n"
      ],
      "metadata": {
        "colab": {
          "base_uri": "https://localhost:8080/"
        },
        "id": "Ui4IDhZLJKLH",
        "outputId": "db6db62a-fcea-4b54-a7ed-b33fa51d68f1"
      },
      "execution_count": null,
      "outputs": [
        {
          "output_type": "stream",
          "name": "stdout",
          "text": [
            "it is a keyword\n"
          ]
        }
      ]
    },
    {
      "cell_type": "code",
      "source": [
        "# 5. Create a list and tuple in Python, and demonstrate how attempting to change an element works differently for each?\n",
        "\n",
        "lst =[1, 2, 6, \"kavita\", 3+5j, 9.54]\n",
        "tuple1 = (1, 2, 4, 3.43)\n",
        "\n",
        "# List are mutable\n",
        "lst[2] = 77\n",
        "print(\"Modified list:\", lst)\n",
        "\n",
        "# Tuples are immutable, it will give error\n",
        "tuple1[2] = \"Kavita\"\n",
        "print(\"Modified tuple:\", tuple1)"
      ],
      "metadata": {
        "colab": {
          "base_uri": "https://localhost:8080/",
          "height": 211
        },
        "id": "eXKbTtdqKwJ6",
        "outputId": "741d59af-5728-4319-8fd3-67242117fb14"
      },
      "execution_count": null,
      "outputs": [
        {
          "output_type": "stream",
          "name": "stdout",
          "text": [
            "Modified list: [1, 2, 77, 'kavita', (3+5j), 9.54]\n"
          ]
        },
        {
          "output_type": "error",
          "ename": "TypeError",
          "evalue": "'tuple' object does not support item assignment",
          "traceback": [
            "\u001b[0;31m---------------------------------------------------------------------------\u001b[0m",
            "\u001b[0;31mTypeError\u001b[0m                                 Traceback (most recent call last)",
            "\u001b[0;32m<ipython-input-18-5b327d6c0031>\u001b[0m in \u001b[0;36m<cell line: 0>\u001b[0;34m()\u001b[0m\n\u001b[1;32m      9\u001b[0m \u001b[0;34m\u001b[0m\u001b[0m\n\u001b[1;32m     10\u001b[0m \u001b[0;31m# Tuples are immutable\u001b[0m\u001b[0;34m\u001b[0m\u001b[0;34m\u001b[0m\u001b[0m\n\u001b[0;32m---> 11\u001b[0;31m \u001b[0mtuple1\u001b[0m\u001b[0;34m[\u001b[0m\u001b[0;36m2\u001b[0m\u001b[0;34m]\u001b[0m \u001b[0;34m=\u001b[0m \u001b[0;34m\"Kavita\"\u001b[0m\u001b[0;34m\u001b[0m\u001b[0;34m\u001b[0m\u001b[0m\n\u001b[0m\u001b[1;32m     12\u001b[0m \u001b[0mprint\u001b[0m\u001b[0;34m(\u001b[0m\u001b[0;34m\"Modified tuple:\"\u001b[0m\u001b[0;34m,\u001b[0m \u001b[0mtuple1\u001b[0m\u001b[0;34m)\u001b[0m\u001b[0;34m\u001b[0m\u001b[0;34m\u001b[0m\u001b[0m\n",
            "\u001b[0;31mTypeError\u001b[0m: 'tuple' object does not support item assignment"
          ]
        }
      ]
    },
    {
      "cell_type": "code",
      "source": [
        "# 6. Write a function to demonstrate the behavior of mutable and immutable arguments?\n"
      ],
      "metadata": {
        "id": "Jn45dogPPidN"
      },
      "execution_count": null,
      "outputs": []
    },
    {
      "cell_type": "code",
      "source": [
        "# 7. Write a program that performs basic arithmetic operations on two user-input numbers?\n",
        "a = int(input(\"enter the first number: \"))\n",
        "b = int(input(\"enter the second number: \"))\n",
        "print(a + b)\n",
        "print(a - b)\n",
        "print(a * b)\n",
        "print(a / b)"
      ],
      "metadata": {
        "colab": {
          "base_uri": "https://localhost:8080/"
        },
        "id": "aDIfcOuAPv0R",
        "outputId": "167487e2-40e1-44a3-9f13-d311b7d3d1d1"
      },
      "execution_count": null,
      "outputs": [
        {
          "output_type": "stream",
          "name": "stdout",
          "text": [
            "enter the first number: 3\n",
            "enter the second number: 4\n",
            "7\n",
            "-1\n",
            "12\n",
            "0.75\n"
          ]
        }
      ]
    },
    {
      "cell_type": "code",
      "source": [
        "# 8. Write a program to demonstrate the use of logical operators?\n",
        "age = int(input(\"enter your age: \"))\n",
        "occuption = input(\"enter your occupation: \")\n",
        "if age < 18 and occuption == \"student\":\n",
        "  print(\"you are not eligible for vote\")\n",
        "elif age >=18 or occuption == \"student\" :\n",
        "  print(\"you are eligible for vote\")\n",
        "elif age < 60 and occuption != \"student\":\n",
        "  print(\"you are eligible as you are senior citizion\")\n",
        "else:\n",
        "  print(\"end\")\n"
      ],
      "metadata": {
        "colab": {
          "base_uri": "https://localhost:8080/"
        },
        "id": "SIcSLeCMRS0B",
        "outputId": "b7fd6882-d784-487c-e83f-77459354133a"
      },
      "execution_count": null,
      "outputs": [
        {
          "output_type": "stream",
          "name": "stdout",
          "text": [
            "enter your age: 51\n",
            "enter your occupation: business\n",
            "you are eligible for vote\n"
          ]
        }
      ]
    },
    {
      "cell_type": "code",
      "source": [
        "# 9. Write a Python program to convert user input from string to integer, float, and boolean types?\n",
        "s = \"15\"\n",
        "print(int(s))\n",
        "print(float(s))\n",
        "print(bool(s))\n",
        "print()\n",
        "\n",
        "s1= \"2.2\"\n",
        "print(int(float(s1)))\n",
        "print(float(s1))\n",
        "print(bool(s1))\n",
        "print()\n",
        "\n",
        "s2 = \"True\"\n",
        "print(int(bool(s2)))\n",
        "print(float(bool(s2)))\n",
        "print(bool(s2))\n",
        "\n",
        "# We can not convert string like \"test\" ---> into another data type it will throw error."
      ],
      "metadata": {
        "id": "V5ZTvoTsAVqO",
        "colab": {
          "base_uri": "https://localhost:8080/"
        },
        "outputId": "563c4739-edae-4d83-a8a8-a9c517e26e59"
      },
      "execution_count": null,
      "outputs": [
        {
          "output_type": "stream",
          "name": "stdout",
          "text": [
            "15\n",
            "15.0\n",
            "True\n",
            "\n",
            "2\n",
            "2.2\n",
            "True\n",
            "\n",
            "1\n",
            "1.0\n",
            "True\n"
          ]
        }
      ]
    },
    {
      "cell_type": "code",
      "source": [
        " # 10. Write code to demonstrate type casting with list elements?\n",
        "\n",
        " lst =[1, 2, 6, \"kavita\", 3+5j, 9.54]\n",
        " print(lst)\n",
        " print(type(lst))\n",
        " lst[2] = 1.11\n",
        " print(lst)\n",
        " print(type(lst))\n",
        " lst[0] = \"joshi\"\n",
        " print(lst)\n",
        " print(type(lst))\n",
        "\n"
      ],
      "metadata": {
        "colab": {
          "base_uri": "https://localhost:8080/"
        },
        "id": "KgK52gEaKYdk",
        "outputId": "b3d31eca-fca6-4233-c0fe-aa89a068d61c"
      },
      "execution_count": null,
      "outputs": [
        {
          "output_type": "stream",
          "name": "stdout",
          "text": [
            "[1, 2, 6, 'kavita', (3+5j), 9.54]\n",
            "<class 'list'>\n",
            "[1, 2, 1.11, 'kavita', (3+5j), 9.54]\n",
            "<class 'list'>\n",
            "['joshi', 2, 1.11, 'kavita', (3+5j), 9.54]\n",
            "<class 'list'>\n"
          ]
        }
      ]
    },
    {
      "cell_type": "code",
      "source": [
        "# 11. Write a program that checks if a number is positive, negative, or zero?\n",
        "num = int(input(\"enter the number: \"))\n",
        "if num > 0:\n",
        "  print(\"number is positive\")\n",
        "elif num < 0:\n",
        "  print(\"number is negative\")\n",
        "else:\n",
        "  print(\"number is zero\")"
      ],
      "metadata": {
        "colab": {
          "base_uri": "https://localhost:8080/"
        },
        "id": "aNeTrGD1KpHW",
        "outputId": "c3d9212e-05d7-4695-bae9-92e63c8c7bbf"
      },
      "execution_count": null,
      "outputs": [
        {
          "output_type": "stream",
          "name": "stdout",
          "text": [
            "enter the number: -3\n",
            "number is negative\n"
          ]
        }
      ]
    },
    {
      "cell_type": "code",
      "source": [
        "# 12. Write a for loop to print numbers from 1 to 10?\n",
        "for i in range(1,11):\n",
        "  print(i)"
      ],
      "metadata": {
        "colab": {
          "base_uri": "https://localhost:8080/"
        },
        "id": "o7lcC7jdMYaQ",
        "outputId": "e581ac8e-4d4b-4690-bee7-7ca0f1bf4601"
      },
      "execution_count": null,
      "outputs": [
        {
          "output_type": "stream",
          "name": "stdout",
          "text": [
            "1\n",
            "2\n",
            "3\n",
            "4\n",
            "5\n",
            "6\n",
            "7\n",
            "8\n",
            "9\n",
            "10\n"
          ]
        }
      ]
    },
    {
      "cell_type": "code",
      "source": [
        "# 13. Write a Python program to find the sum of all even numbers between 1 and 50?\n",
        "\n",
        "sum_of_evens = 0\n",
        "for i in range(2,51,2):\n",
        "  sum_of_evens += i\n",
        "  print(i)"
      ],
      "metadata": {
        "colab": {
          "base_uri": "https://localhost:8080/"
        },
        "id": "H5EBs_ooMpLU",
        "outputId": "ca259b34-3f19-48a4-dd5a-4e902a182952"
      },
      "execution_count": null,
      "outputs": [
        {
          "output_type": "stream",
          "name": "stdout",
          "text": [
            "2\n",
            "4\n",
            "6\n",
            "8\n",
            "10\n",
            "12\n",
            "14\n",
            "16\n",
            "18\n",
            "20\n",
            "22\n",
            "24\n",
            "26\n",
            "28\n",
            "30\n",
            "32\n",
            "34\n",
            "36\n",
            "38\n",
            "40\n",
            "42\n",
            "44\n",
            "46\n",
            "48\n",
            "50\n"
          ]
        }
      ]
    },
    {
      "cell_type": "code",
      "source": [
        "# 14. Write a program to reverse a string using a while loop?\n",
        "string = \"kavita\"\n",
        "reverse_string = \"\"\n",
        "length = len(string)\n",
        "while length > 0:\n",
        "  reverse_string += string[length - 1]\n",
        "  length = length - 1\n",
        "print(reverse_string)\n"
      ],
      "metadata": {
        "colab": {
          "base_uri": "https://localhost:8080/"
        },
        "id": "2RsUoKnzWLmv",
        "outputId": "17d70473-3093-4bec-d471-a5230ac9d40a"
      },
      "execution_count": null,
      "outputs": [
        {
          "output_type": "stream",
          "name": "stdout",
          "text": [
            "ativak\n"
          ]
        }
      ]
    },
    {
      "cell_type": "code",
      "source": [
        "# 15. Write a Python program to calculate the factorial of a number provided by the user using a while loop?\n",
        "\n",
        "num = int(input(\"enter the number: \"))\n",
        "i = num\n",
        "fib = 1\n",
        "\n",
        "while i > 1:\n",
        "  fib *= i\n",
        "  i -= 1\n",
        "print(f\"The factorial of {num} is {fib} \")"
      ],
      "metadata": {
        "id": "J3AoRCdAXtcd",
        "colab": {
          "base_uri": "https://localhost:8080/"
        },
        "outputId": "1e51e9cb-7e3a-487b-bb43-4a598de2662b"
      },
      "execution_count": 12,
      "outputs": [
        {
          "output_type": "stream",
          "name": "stdout",
          "text": [
            "enter the number: 5\n",
            "The factorial of 5 is 120 \n"
          ]
        }
      ]
    }
  ]
}